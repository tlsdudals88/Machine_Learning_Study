{
 "cells": [
  {
   "cell_type": "markdown",
   "metadata": {},
   "source": [
    "# 1. Logistic Regression"
   ]
  },
  {
   "cell_type": "code",
   "execution_count": 61,
   "metadata": {
    "collapsed": true
   },
   "outputs": [],
   "source": [
    "import tensorflow as tf\n",
    "import numpy as np\n",
    "import matplotlib.pyplot as plt\n",
    "import math\n",
    "%matplotlib inline"
   ]
  },
  {
   "cell_type": "code",
   "execution_count": 112,
   "metadata": {},
   "outputs": [
    {
     "name": "stdout",
     "output_type": "stream",
     "text": [
      "0.6931474\n",
      "0.38739312\n"
     ]
    }
   ],
   "source": [
    "LEARNING_RATE = 0.001\n",
    "NUM_STEPS = 100000\n",
    "\n",
    "data = np.loadtxt('./ex2/ex2data1.txt', delimiter=',')\n",
    "x_data = data[:, :-1] # 100 x 2\n",
    "y_data = np.reshape(data[:, -1], [-1, 1]) # 100 x 1\n",
    "\n",
    "X = tf.placeholder(dtype=tf.float32, shape=[None, 2])\n",
    "Y = tf.placeholder(dtype=tf.float32, shape=[None, 1])\n",
    "\n",
    "W = tf.Variable(tf.zeros([2, 1]))\n",
    "B = tf.Variable(tf.zeros([1, 1]))\n",
    "\n",
    "pred = tf.sigmoid(tf.matmul(X, W) + B)\n",
    "#pred = tf.div(1., 1.+tf.exp(-(tf.matmul(X, W) + B)))\n",
    "loss = -tf.reduce_mean(Y * tf.log(pred) + (1-Y) * tf.log(1 - pred))\n",
    "#loss = tf.reduce_mean(tf.nn.sigmoid_cross_entropy_with_logits(logits=pred, labels=Y))\n",
    "optimizer = tf.train.GradientDescentOptimizer(LEARNING_RATE)\n",
    "train = optimizer.minimize(loss)\n",
    "\n",
    "init = tf.global_variables_initializer()\n",
    "sess = tf.Session()\n",
    "sess.run(init)\n",
    "\n",
    "print(\"Initial Loss: \"+str(sess.run(loss, feed_dict={X: x_data, Y: y_data})))\n",
    "\n",
    "for step in range(NUM_STEPS):\n",
    "    sess.run(train, feed_dict={X: x_data, Y: y_data})\n",
    "\n",
    "w, b = sess.run([W, B], feed_dict={X: x_data, Y: y_data})\n",
    "print(\"Final Loss: \"+str(sess.run(loss, feed_dict={X: x_data, Y: y_data})))   "
   ]
  },
  {
   "cell_type": "code",
   "execution_count": 129,
   "metadata": {},
   "outputs": [
    {
     "name": "stdout",
     "output_type": "stream",
     "text": [
      "[30.05882245 99.8278578 ]\n"
     ]
    },
    {
     "data": {
      "text/plain": [
       "<matplotlib.legend.Legend at 0x11d46be48>"
      ]
     },
     "execution_count": 129,
     "metadata": {},
     "output_type": "execute_result"
    },
    {
     "data": {
      "image/png": "[encoded data removed]",
      "text/plain": [
       "<matplotlib.figure.Figure at 0x11d376828>"
      ]
     },
     "metadata": {},
     "output_type": "display_data"
    }
   ],
   "source": [
    "def plotData():\n",
    "\n",
    "    pos = np.array([list(x_data[i]) for i in range(len(y_data)) if y_data[i][0] == 1])\n",
    "    neg = np.array([list(x_data[i]) for i in range(len(y_data)) if y_data[i][0] == 0])\n",
    "    \n",
    "    plt.figure(figsize=(10,7))\n",
    "    plt.plot(pos[:, 0], pos[:, 1], 'k+', label='Admitted') # black plus\n",
    "    plt.plot(neg[:, 0], neg[:, 1], 'yo', label='Not admitted') # yellow circle\n",
    "    plt.xlabel('Exam 1 score')\n",
    "    plt.ylabel('Exam 2 score')\n",
    "    plt.legend() # Admitted or Not admitted\n",
    "    plt.grid(True)\n",
    "\n",
    "xs = np.array([np.min(x_data[:,0]), np.max(x_data[:,0])])\n",
    "ys = (-1/w[1][0]) * (w[0][0] * xs + b[0][0]) # x2 = -(w1 * x1 + b) / w2\n",
    "\n",
    "plotData()\n",
    "plt.plot(xs, ys,'b-',label='Decision Boundary')\n",
    "plt.legend()    \n",
    "    "
   ]
  },
  {
   "cell_type": "markdown",
   "metadata": {},
   "source": [
    "# 2. Regularized Logistic Regression"
   ]
  },
  {
   "cell_type": "code",
   "execution_count": 161,
   "metadata": {},
   "outputs": [
    {
     "name": "stdout",
     "output_type": "stream",
     "text": [
      "Initial Loss: 0.6931474\n",
      "Final Loss: nan\n"
     ]
    }
   ],
   "source": [
    "def plotData():\n",
    "\n",
    "    pos = np.array([list(x_data[i]) for i in range(len(y_data)) if y_data[i][0] == 1])\n",
    "    neg = np.array([list(x_data[i]) for i in range(len(y_data)) if y_data[i][0] == 0])\n",
    "    \n",
    "    plt.figure(figsize=(10,7))\n",
    "    plt.plot(pos[:, 0], pos[:, 1], 'k+', label='y = 1') # black plus\n",
    "    plt.plot(neg[:, 0], neg[:, 1], 'yo', label='y = 0') # yellow circle\n",
    "    plt.xlabel('Microchip Test 1')\n",
    "    plt.ylabel('Microchip Test 2')\n",
    "    plt.legend()\n",
    "    plt.grid(True)\n",
    "\n",
    "def mapFeature(x1, x2):\n",
    "    degree = 6\n",
    "    output = []\n",
    "\n",
    "    for i in range(1, degree+1):\n",
    "        for j in range(0, i+1): # 1 => (0, 1), 2 => (0, 1, 2) ... 6 => (0, 1 ..., 6)\n",
    "            temp1 = x1 ** (i-j)\n",
    "            temp2 = x2 ** i\n",
    "            temp = temp1*temp2 # (118, )\n",
    "            output.append(temp)\n",
    "    \n",
    "    mapX = np.transpose(output) # (118, 27)\n",
    "    return mapX\n",
    "\n",
    "data = np.loadtxt('./ex2/ex2data2.txt', delimiter=',')\n",
    "x_data = data[:, :-1] # 118 x 2\n",
    "y_data = np.reshape(data[:, -1], [-1, 1])\n",
    "\n",
    "map_x = mapFeature(x_data[:, 0], x_data[:, 1]) # (118, 27)\n",
    "map_y = np.reshape(data[:, -1], [-1, 1]) # (118, 1)\n",
    "map_w = np.zeros([len(map_x[0]), 1]) # (27, 1)\n",
    "map_b = np.zeros(([1,1])) # (1, 1)\n",
    "\n",
    "m = len(map_x)\n",
    "n = len(map_x[0])\n",
    "\n",
    "LEARNING_RATE = 10\n",
    "NUM_STEPS = 100000\n",
    "LAMBDA = 0\n",
    "\n",
    "X = tf.placeholder(dtype=tf.float32, shape=[None, 27])\n",
    "Y = tf.placeholder(dtype=tf.float32, shape=[None, 1])\n",
    "\n",
    "W = tf.Variable(tf.zeros([27, 1]))\n",
    "B = tf.Variable(tf.zeros([1, 1]))\n",
    "\n",
    "pred = tf.sigmoid(tf.matmul(X, W) + B)\n",
    "#pred = tf.div(1., 1.+tf.exp(-(tf.matmul(X, W) + B)))\n",
    "\n",
    "val_loss = -tf.reduce_mean(Y * tf.log(pred) + (1-Y) * tf.log(1 - pred))\n",
    "#val_loss = tf.reduce_mean(tf.nn.sigmoid_cross_entropy_with_logits(logits=pred, labels=Y))\n",
    "\n",
    "L2_loss = (LAMBDA/2*m) * tf.nn.l2_loss(W)\n",
    "loss = val_loss + L2_loss\n",
    "\n",
    "optimizer = tf.train.GradientDescentOptimizer(LEARNING_RATE)\n",
    "train = optimizer.minimize(loss)\n",
    "\n",
    "init = tf.global_variables_initializer()\n",
    "sess = tf.Session()\n",
    "sess.run(init)\n",
    "\n",
    "print(\"Initial Loss: \"+str(sess.run(loss, feed_dict={X: map_x, Y: map_y})))\n",
    "\n",
    "for step in range(NUM_STEPS):\n",
    "    sess.run(train, feed_dict={X: map_x, Y: map_y})\n",
    "\n",
    "w, b = sess.run([W, B], feed_dict={X: map_x, Y: map_y})\n",
    "print(\"Final Loss: \"+str(sess.run(loss, feed_dict={X: map_x, Y: map_y})))   \n",
    "\n"
   ]
  },
  {
   "cell_type": "code",
   "execution_count": 162,
   "metadata": {},
   "outputs": [
    {
     "name": "stderr",
     "output_type": "stream",
     "text": [
      "/Users/Youngmin/anaconda/lib/python3.6/site-packages/matplotlib/contour.py:1534: UserWarning: Warning: converting a masked element to nan.\n",
      "  self.zmax = float(z.max())\n",
      "/Users/Youngmin/anaconda/lib/python3.6/site-packages/matplotlib/contour.py:1535: UserWarning: Warning: converting a masked element to nan.\n",
      "  self.zmin = float(z.min())\n",
      "/Users/Youngmin/anaconda/lib/python3.6/site-packages/matplotlib/contour.py:1180: UserWarning: No contour levels were found within the data range.\n",
      "  warnings.warn(\"No contour levels were found\"\n"
     ]
    },
    {
     "data": {
      "text/plain": [
       "Text(0.5,1,'Decision Boundary')"
      ]
     },
     "execution_count": 162,
     "metadata": {},
     "output_type": "execute_result"
    },
    {
     "data": {
      "image/png": "[encoded data removed]",
      "text/plain": [
       "<matplotlib.figure.Figure at 0x11bf19c18>"
      ]
     },
     "metadata": {},
     "output_type": "display_data"
    }
   ],
   "source": [
    "plotData()\n",
    "\n",
    "xvals = np.linspace(-1,1.5,50)\n",
    "yvals = np.linspace(-1,1.5,50)\n",
    "zvals = np.zeros((len(xvals),len(yvals)))\n",
    "\n",
    "for i in range(len(xvals)):\n",
    "    for j in range(len(yvals)):\n",
    "        myfeaturesij = mapFeature(np.array([xvals[i]]),np.array([yvals[j]]))\n",
    "        zvals[i][j] = np.matmul(myfeaturesij, w) + b\n",
    "        \n",
    "zvals = zvals.transpose()\n",
    "u, v = np.meshgrid( xvals, yvals )\n",
    "mycontour = plt.contour( xvals, yvals, zvals, [0])\n",
    "#Kind of a hacky way to display a text on top of the decision boundary\n",
    "myfmt = { 0:'Lambda = 0'}\n",
    "plt.clabel(mycontour, inline=1, fontsize=15, fmt=myfmt)\n",
    "plt.title(\"Decision Boundary\")"
   ]
  }
 ],
 "metadata": {
  "kernelspec": {
   "display_name": "Python 3",
   "language": "python",
   "name": "python3"
  },
  "language_info": {
   "codemirror_mode": {
    "name": "ipython",
    "version": 3
   },
   "file_extension": ".py",
   "mimetype": "text/x-python",
   "name": "python",
   "nbconvert_exporter": "python",
   "pygments_lexer": "ipython3",
   "version": "3.6.2"
  }
 },
 "nbformat": 4,
 "nbformat_minor": 2
}
