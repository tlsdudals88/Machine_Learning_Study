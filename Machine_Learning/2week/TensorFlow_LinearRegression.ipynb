{
 "cells": [
  {
   "cell_type": "markdown",
   "metadata": {
    "collapsed": true
   },
   "source": [
    "# 2. Linear regression with one variable"
   ]
  },
  {
   "cell_type": "code",
   "execution_count": 82,
   "metadata": {
    "collapsed": true
   },
   "outputs": [],
   "source": [
    "import tensorflow as tf\n",
    "import numpy as np"
   ]
  },
  {
   "cell_type": "code",
   "execution_count": 83,
   "metadata": {},
   "outputs": [
    {
     "name": "stdout",
     "output_type": "stream",
     "text": [
      "initial loss: 32.072735\n",
      "step (1500) => loss: 4.4833879471\n"
     ]
    }
   ],
   "source": [
    "LEARNING_RATE = 0.01\n",
    "NUM_STEPS = 1500\n",
    "\n",
    "data = np.loadtxt(\"./ex1/ex1data1.txt\", delimiter=',')\n",
    "\n",
    "x_data = np.reshape(np.array(data[:, 0]), [-1, 1]) # (97, 1)\n",
    "y_data = np.reshape(np.array(data[:, 1]), [-1, 1]) # (97, 1)\n",
    "\n",
    "X = tf.placeholder(dtype=tf.float32, shape=[None, 1])\n",
    "Y = tf.placeholder(dtype=tf.float32, shape=[None, 1])\n",
    "\n",
    "W = tf.Variable(tf.zeros([1, 1]))\n",
    "B = tf.Variable(tf.zeros([1, 1]))\n",
    "\n",
    "pred = tf.matmul(X, W) + B\n",
    "\n",
    "#loss = 1/2 * tf.reduce_mean(tf.square(pred - Y))\n",
    "loss = 1/2 * tf.losses.mean_squared_error(labels=Y, predictions=pred)\n",
    "optimizer = tf.train.GradientDescentOptimizer(LEARNING_RATE)\n",
    "train = optimizer.minimize(loss)\n",
    "\n",
    "init = tf.global_variables_initializer()\n",
    "sess = tf.Session()\n",
    "sess.run(init)\n",
    "\n",
    "print(\"initial loss: \"+str(sess.run(loss, feed_dict = {X: x_data, Y: y_data})))\n",
    "index = 0\n",
    "for step in range(NUM_STEPS):\n",
    "    sess.run(train, feed_dict = {X: x_data, Y: y_data})\n",
    "    index = index + 1\n",
    "\n",
    "loss = sess.run(loss, feed_dict = {X: x_data, Y: y_data})\n",
    "print(\"step (\"+str(index)+\") => loss: \"+str(format(loss, '.10f')))"
   ]
  },
  {
   "cell_type": "markdown",
   "metadata": {},
   "source": [
    "# 3. Linear Regression with Multiple Variables"
   ]
  },
  {
   "cell_type": "code",
   "execution_count": 84,
   "metadata": {},
   "outputs": [
    {
     "name": "stdout",
     "output_type": "stream",
     "text": [
      "initial loss: 0.027238019\n",
      "model: 0.95241016 * x1 + -0.065946564 * x2 + 1.4551915e-09\n",
      "loss: 0.0072740475\n",
      "prediction (x1: 4478, x2: 5): 669293.0406599501\n"
     ]
    }
   ],
   "source": [
    "LEARNING_RATE = 1\n",
    "NUM_STEPS = 1000\n",
    "\n",
    "data = np.loadtxt(\"./ex1/ex1data2.txt\", delimiter=',')\n",
    "\n",
    "x = np.array(data[:, :-1]) # (47, 2) matrix\n",
    "y = np.array(np.reshape(data[:, -1], [-1,1])) # 47-dimension vector => (47, 1) matrix\n",
    "\n",
    "norm_x = (x - x.mean(axis=0)) / (x.max(axis=0) - x.min(axis=0))\n",
    "norm_y = (y - y.mean(axis=0)) / (y.max(axis=0) - y.min(axis=0))\n",
    "\n",
    "n = np.shape(x)[1] # number of features = 2\n",
    "m = np.shape(x)[0] # number of training examples = 47\n",
    "\n",
    "norm_X = tf.placeholder(dtype=tf.float32, shape=[None, 2])\n",
    "norm_Y = tf.placeholder(dtype=tf.float32, shape=[None, 1])\n",
    "\n",
    "W = tf.Variable(tf.zeros([2, 1])) # (2, 1) matrix\n",
    "# B = tf.Variable(tf.zeros([m, 1])) # (47, 1) matrix\n",
    "B = tf.Variable(tf.zeros([1, 1])) # (1, 1) matrix\n",
    "\n",
    "pred = tf.matmul(norm_X, W) + B # (47, 2) * (2, 1) + (47, 1) = (47, 1)\n",
    "\n",
    "# loss = 1/2 * tf.reduce_mean(tf.square(pred - norm_Y))\n",
    "loss = 1/2 *tf.losses.mean_squared_error(labels=norm_Y, predictions=pred)\n",
    "optimizer = tf.train.GradientDescentOptimizer(LEARNING_RATE)\n",
    "train = optimizer.minimize(loss)\n",
    "\n",
    "init = tf.global_variables_initializer()\n",
    "sess = tf.Session()\n",
    "sess.run(init)\n",
    "\n",
    "print(\"initial loss: \"+str(sess.run(loss, feed_dict = {norm_X: norm_x, norm_Y: norm_y})))\n",
    "\n",
    "for step in range(NUM_STEPS):\n",
    "    sess.run(train, feed_dict={norm_X: norm_x, norm_Y: norm_y})\n",
    "\n",
    "weight, bias, final_loss = sess.run([W, B, loss], feed_dict={norm_X: norm_x, norm_Y: norm_y})\n",
    "\n",
    "print(\"model: \"+str(weight[0][0])+\" * x1 + \"+str(weight[1][0])+\" * x2 + \"+str(bias[0][0]))    \n",
    "print(\"loss: \"+str(final_loss))\n",
    "\n",
    "test_x = [4478, 5]\n",
    "test_norm_X = (test_x - x.mean(axis=0)) / (x.max(axis=0) - x.min(axis=0))\n",
    "norm_inference = test_norm_X[0]*weight[0][0] + test_norm_X[1]*weight[1][0] + bias[0][0]\n",
    "inference = norm_inference * (np.max(y) - np.min(y)) + np.average(y)\n",
    "print(\"prediction (x1: \"+str(test_x[0])+\", x2: \"+str(test_x[1])+\"): \"+str(inference))\n"
   ]
  }
 ],
 "metadata": {
  "kernelspec": {
   "display_name": "Python 3",
   "language": "python",
   "name": "python3"
  },
  "language_info": {
   "codemirror_mode": {
    "name": "ipython",
    "version": 3
   },
   "file_extension": ".py",
   "mimetype": "text/x-python",
   "name": "python",
   "nbconvert_exporter": "python",
   "pygments_lexer": "ipython3",
   "version": "3.6.2"
  }
 },
 "nbformat": 4,
 "nbformat_minor": 2
}
