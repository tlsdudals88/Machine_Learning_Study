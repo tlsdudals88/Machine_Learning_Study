{
 "cells": [
  {
   "cell_type": "markdown",
   "metadata": {},
   "source": [
    "# Chapter 1: 함수\n",
    "\n",
    "# 1.1 집합에 대한 용어와 표기법\n",
    "* **집합(set):** 수학 객체를 모아 놓은 것, 중복 불가\n",
    "* **원소(elements):** 집합에 속하는 객체\n",
    "* S1: {1, 3, 2, 4} = S2: {1, 2, 3, 4}\n",
    "* **1 ∈ S1:** 원소 1은 집합 S1에 포함된다.\n",
    "* **S1 ⊆ S2:** 집합 S1은 S2에 부분집합이다.\n",
    "* **S1 = S2:** S1 ⊆ S2 & S1 ⊇ S2\n",
    "* **무한집합:** 집합안의 원소의 갯수가 무한대\n",
    "* **|S|:** 집합의 크기 (cardinality) = 원소의 갯수\n"
   ]
  },
  {
   "cell_type": "code",
   "execution_count": 1,
   "metadata": {},
   "outputs": [
    {
     "data": {
      "text/plain": [
       "True"
      ]
     },
     "execution_count": 1,
     "metadata": {},
     "output_type": "execute_result"
    }
   ],
   "source": [
    "S1 = {1, 3, 2, 2, 4}\n",
    "S2 = {1, 2, 3, 4}\n",
    "\n",
    "S1 == S2 # 집합은 중복을 제거하고 원소들 사이에서 순서가 없다."
   ]
  },
  {
   "cell_type": "code",
   "execution_count": 21,
   "metadata": {},
   "outputs": [
    {
     "name": "stdout",
     "output_type": "stream",
     "text": [
      "|S1|: 4\n",
      "|S2|: 4\n"
     ]
    }
   ],
   "source": [
    "print(\"|S1|: {}\".format(len(S1))) # S1 집합의 크기\n",
    "print(\"|S2|: \"+str(len(S2))) # S2 집합의 크기"
   ]
  },
  {
   "cell_type": "code",
   "execution_count": 7,
   "metadata": {},
   "outputs": [
    {
     "name": "stdout",
     "output_type": "stream",
     "text": [
      "S1 == S2\n"
     ]
    }
   ],
   "source": [
    "if S1.issubset(S2) & S2.issubset(S1): # S1이 S2에 포함되고 S2가 S1에 포함되면 두 집합은 같다\n",
    "    print(\"S1 == S2\")\n",
    "else:\n",
    "    print(\"S1 != S2\")"
   ]
  },
  {
   "cell_type": "code",
   "execution_count": 164,
   "metadata": {},
   "outputs": [
    {
     "data": {
      "text/plain": [
       "False"
      ]
     },
     "execution_count": 164,
     "metadata": {},
     "output_type": "execute_result"
    }
   ],
   "source": [
    "5 in S1 # 5 !∈ S1: 원소 5는 집합 S1에 포함되지 않는다."
   ]
  },
  {
   "cell_type": "code",
   "execution_count": 165,
   "metadata": {},
   "outputs": [
    {
     "data": {
      "text/plain": [
       "True"
      ]
     },
     "execution_count": 165,
     "metadata": {},
     "output_type": "execute_result"
    }
   ],
   "source": [
    "1 in S1 # 1 ∈ S1: 원소 1은 집합 S1에 포함된다."
   ]
  },
  {
   "cell_type": "markdown",
   "metadata": {},
   "source": [
    "# 1.2 카테시안 곱 (Cartesian Product)\n",
    "* 카테시안 곱: 데카크르 곱, 곱집합\n",
    "* A × B = {(a,b) ∣ a ∈ A, b ∈ B}\n",
    "* A = {1,2}, B = {3,4} => A x B = {(1,3), (1,4), (2,3), (2,4)}"
   ]
  },
  {
   "cell_type": "code",
   "execution_count": 166,
   "metadata": {},
   "outputs": [
    {
     "data": {
      "text/plain": [
       "{(1, 5),\n",
       " (1, 6),\n",
       " (1, 7),\n",
       " (1, 8),\n",
       " (2, 5),\n",
       " (2, 6),\n",
       " (2, 7),\n",
       " (2, 8),\n",
       " (3, 5),\n",
       " (3, 6),\n",
       " (3, 7),\n",
       " (3, 8)}"
      ]
     },
     "execution_count": 166,
     "metadata": {},
     "output_type": "execute_result"
    }
   ],
   "source": [
    "import itertools\n",
    "\n",
    "S1 = {1, 2, 3}\n",
    "S2 = {5, 6, 7, 8}\n",
    "\n",
    "set(itertools.product(S1, S2))"
   ]
  },
  {
   "cell_type": "code",
   "execution_count": 167,
   "metadata": {},
   "outputs": [
    {
     "name": "stdout",
     "output_type": "stream",
     "text": [
      "|S1 X S2|: 12\n"
     ]
    }
   ],
   "source": [
    "print(\"|S1 X S2|: {}\".format(len(set(itertools.product(S1, S2)))))"
   ]
  },
  {
   "cell_type": "markdown",
   "metadata": {},
   "source": [
    "# 1.3 함수 (Function)\n",
    "* **함수: ** 튜플 (a,b)의 집합이며, 각 튜플의 첫번째 원소(input)는 모두 다르다. ex) {(1,2), (2,3)}\n",
    "* **정의역(Domain): ** 입력 집합 D\n",
    "* **공역(Co-Domain): ** 출력이 될 수 있는 집합\n",
    "* **치역(Image, Range): ** 정의역에서의 입력값에 대해서 매핑되는 출력값들의 집합\n",
    "* **매핑 (x -> y): ** 만약 y = f(x)일 경우, x는 f에 의해서 y로 매핑된다.\n",
    "\n",
    "   "
   ]
  },
  {
   "cell_type": "code",
   "execution_count": 13,
   "metadata": {},
   "outputs": [
    {
     "data": {
      "text/plain": [
       "{(1, 2), (2, 4), (3, 6), (4, 8), (5, 10)}"
      ]
     },
     "execution_count": 13,
     "metadata": {},
     "output_type": "execute_result"
    }
   ],
   "source": [
    "def doubleFunction(input):\n",
    "    output = {(a,a*2) for a in input}\n",
    "    return output\n",
    "                 \n",
    "D = {1, 2, 3, 4, 5}\n",
    "\n",
    "doubleFunction(D)"
   ]
  },
  {
   "cell_type": "code",
   "execution_count": 169,
   "metadata": {},
   "outputs": [
    {
     "data": {
      "text/plain": [
       "{((1, 5), 5),\n",
       " ((1, 6), 6),\n",
       " ((1, 7), 7),\n",
       " ((2, 5), 10),\n",
       " ((2, 6), 12),\n",
       " ((2, 7), 14),\n",
       " ((3, 5), 15),\n",
       " ((3, 6), 18),\n",
       " ((3, 7), 21)}"
      ]
     },
     "execution_count": 169,
     "metadata": {},
     "output_type": "execute_result"
    }
   ],
   "source": [
    "def CartesianAndDoubleFunction(set1, set2):\n",
    "    output = (((x,y),x*y) for x in set1 for y in set2)\n",
    "    return output\n",
    "\n",
    "D1 = {1, 2, 3}\n",
    "D2 = {5, 6, 7}\n",
    "\n",
    "set(CartesianAndDoubleFunction(D1, D2))\n"
   ]
  },
  {
   "cell_type": "code",
   "execution_count": 24,
   "metadata": {},
   "outputs": [
    {
     "data": {
      "text/plain": [
       "{('A', 'D'),\n",
       " ('B', 'E'),\n",
       " ('C', 'F'),\n",
       " ('D', 'G'),\n",
       " ('E', 'H'),\n",
       " ('F', 'I'),\n",
       " ('G', 'J'),\n",
       " ('H', 'K'),\n",
       " ('I', 'L'),\n",
       " ('J', 'M'),\n",
       " ('K', 'N'),\n",
       " ('L', 'O'),\n",
       " ('M', 'P'),\n",
       " ('N', 'Q'),\n",
       " ('O', 'R'),\n",
       " ('P', 'S'),\n",
       " ('Q', 'T'),\n",
       " ('R', 'U'),\n",
       " ('S', 'V'),\n",
       " ('T', 'W'),\n",
       " ('U', 'X'),\n",
       " ('V', 'Y'),\n",
       " ('W', 'Z'),\n",
       " ('X', 'A'),\n",
       " ('Y', 'B'),\n",
       " ('Z', 'C')}"
      ]
     },
     "execution_count": 24,
     "metadata": {},
     "output_type": "execute_result"
    }
   ],
   "source": [
    "def Caesar(input):\n",
    "    output = set()\n",
    "    shift = 3\n",
    "    diff = ord('Z') - ord('A') + 1\n",
    "    \n",
    "    \n",
    "    for letter in input:\n",
    "        if ord(letter)+shift <= 90:\n",
    "            output.add((letter, chr(ord(letter) + shift)))\n",
    "        else:\n",
    "            output.add((letter, chr(ord(letter) + shift - diff))) \n",
    "\n",
    "    return output\n",
    "\n",
    "D = {'A', 'B', 'C', 'D', 'E', 'F', 'G', 'H', 'I', 'J', 'K', 'L', 'M', 'N', 'O', 'P', 'Q', 'R', 'S', 'T', 'U'\n",
    "     , 'V', 'W', 'X', 'Y', 'Z'}\n",
    "\n",
    "Caesar(D)\n"
   ]
  },
  {
   "cell_type": "code",
   "execution_count": null,
   "metadata": {
    "collapsed": true
   },
   "outputs": [],
   "source": []
  },
  {
   "cell_type": "markdown",
   "metadata": {},
   "source": [
    "* **항등함수: ** x = f(x) ( y = x )\n",
    "* **함수의 합성: ** h(g(f(x)) == g(h(f(x))\n",
    "* **가역함수: ** 역함수가 존재하는 함수\n",
    "* **단사함수(one-to-one): ** 모든 a, b ∈ X에 대해 f(a) = f(b)는 a = b인 경우\n",
    "* **전사함수(onto): ** 모든 y ∈ Y에 대해, f(x) = y를 만족하는 x ∈ X가 존재하는 경우\n",
    "* **역함수: ** 전사함수 & 단사함수, 정의역과 함수값을 뒤집어서 얻는 함수\n",
    "* **역함수의 정의: ** if f(g(x)) = x, then f(x)와 g(x)는 역함수이다."
   ]
  },
  {
   "cell_type": "markdown",
   "metadata": {},
   "source": [
    "# 1.4 확률\n",
    "* **확률분포: ** if a, b ∈ X, then Pr(a) + Pr(b) = 1\n",
    "* **균등분포: ** if a, b ∈ X, then Pr(a) = Pr(b)\n",
    "* **비균등분포: ** if a, b ∈ X, then Pr(a) != Pr(b)"
   ]
  },
  {
   "cell_type": "code",
   "execution_count": 27,
   "metadata": {},
   "outputs": [
    {
     "name": "stdout",
     "output_type": "stream",
     "text": [
      "비균등분포: {'A': 0.375, 'B': 0.4583333333333333, 'C': 0.16666666666666666}\n",
      "확률분포: 1.0\n"
     ]
    }
   ],
   "source": [
    "numCase = {\"A\": 9, \"B\": 11, \"C\": 4} # 비균등 분포 확률\n",
    "prob = dict()\n",
    "totalProb = 0\n",
    "totalNum = numCase[\"A\"] + numCase[\"B\"] + numCase[\"C\"]\n",
    "c = 1 / totalNum\n",
    "\n",
    "for key, value in numCase.items():\n",
    "    # do something with value\n",
    "    prob[key] = c * numCase[key]\n",
    "    totalProb = totalProb + prob[key]\n",
    "\n",
    "print(\"비균등분포: {}\".format(prob))\n",
    "print(\"확률분포: {}\".format(round(totalProb,2)))\n",
    "\n"
   ]
  },
  {
   "cell_type": "code",
   "execution_count": null,
   "metadata": {
    "collapsed": true
   },
   "outputs": [],
   "source": []
  }
 ],
 "metadata": {
  "kernelspec": {
   "display_name": "Python 3",
   "language": "python",
   "name": "python3"
  },
  "language_info": {
   "codemirror_mode": {
    "name": "ipython",
    "version": 3
   },
   "file_extension": ".py",
   "mimetype": "text/x-python",
   "name": "python",
   "nbconvert_exporter": "python",
   "pygments_lexer": "ipython3",
   "version": "3.6.2"
  }
 },
 "nbformat": 4,
 "nbformat_minor": 2
}
